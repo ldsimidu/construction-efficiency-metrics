{
  "nbformat": 4,
  "nbformat_minor": 0,
  "metadata": {
    "colab": {
      "provenance": []
    },
    "kernelspec": {
      "name": "python3",
      "display_name": "Python 3"
    },
    "language_info": {
      "name": "python"
    }
  },
  "cells": [
    {
      "cell_type": "markdown",
      "source": [
        "# Checkpoint 1 - Data Science and Statistical Computing\n",
        "Considere os notebooks dados nas últimas aulas, em especial, o que contém o estudo de caso de produtividades de mão de obra na construção civil.\n",
        "Reveja as aulas dadas e as videoaulas recomendadas de lição de casa.\n",
        "Junte um grupo de 4 a 5 integrantes e elabore um \"relatório\" abaixo, mesclando respostas e códigos para os questionamentos à seguir.\n",
        "Entrega via Teams até um dia antes da próxima aula.\n",
        "**Considere os dados do estudo de caso de construção civil**."
      ],
      "metadata": {
        "id": "6-ynqZ2J4hd1"
      }
    },
    {
      "cell_type": "markdown",
      "source": [
        "## **Tipos de Variáveis**\n",
        "### 1 - Crie um código que importa os dados e, ao importá-los analise suas colunas comentando sobre o tipo de variável de cada uma.\n",
        "### 2 - Estatística é sobre \"responder perguntas com dados\", se coloque no lugar do gestor da construtora: com esses dados de produtividade de equipes em 3 obras diferentes, que tipo de perguntas poderíamos responder com esses dados (liste as que conseguir pensar)?\n",
        "(obs: sei que usar GPT hoje é \"fácil\" pra responder essa pergunta, mas darei um pontinho a mais pela originalidade e, principalmente, se você escrever com suas próprias palavras e realmente fizer sentido pra você).\n",
        "\n",
        "## **Medidas de Posição Central, Gráfico de Densidade de Frequência e Boxplot**\n",
        "### 3 - Utilize tudo que aprendeu sobre medidas de posição central, gráfico de densidade de frequência e boxplot para responder a seguinte pergunta: Há diferença de produtividade entre obras? Se há, qual obra mais produtiva? Qual menos produtiva? Consegue pensar em motivos para esses comportamentos?\n",
        "(obs: cabe checar a caracterização das obras para pensar nos motivos...)\n",
        "\n",
        "### 4 - Utilize tudo que aprendeu sobre medidas de posição central, gráfico de densidade de frequência e boxplot para responder a seguinte pergunta: Há diferença de produtividade entre blocos (coluna descrição)? Se há, qual bloco é mais produtivo? Qual menos produtivo? Consegue pensar em motivos para esses comportamentos?\n",
        "(obs: aqui, nos motivos, ganha ponto a mais pela busca por referências que sustentem sua argumentação)\n",
        "\n",
        "### 5 - Nas duas respostas anteriores, como estava a relação entre média e mediana? Estavam próximas, afastadas? Comente sobre a possibilidade de outliers no grupo de dados.\n",
        "(obs: utilize o gráfico de boxplot para embasar sua argumentação).\n",
        "\n",
        "### 6 - Qual dos blocos tem produtividade mais previsível? Qual tem produtividade menos previsível?\n",
        "\n",
        "### 7 - Questão Extra (vale até 2 questões erradas acima, só para os fortes): Assista o vídeo https://www.youtube.com/watch?v=KRZzUFTmpwU (a partir do 16min36) e tome notas do que ficar com dúvida e exponha no seu notebook abaixo. Veja se consegue entender e explique com suas palavras como é feito o cálculo de um coeficiente sugerido à tabela de orçamentos da SIURB.\n",
        "\n",
        "### 8 - Questão Extra parte 2 (vale meia questão errada): Comente o que está achando da disciplina, onde não ficou claro algum conceito, onde está mais interessante. Feedback sincero, construtivo. A ideia é sempre trazer o melhor e mais completo conteúdo pra vocês =)"
      ],
      "metadata": {
        "id": "XX2bp8jT4hXl"
      }
    }
  ]
}